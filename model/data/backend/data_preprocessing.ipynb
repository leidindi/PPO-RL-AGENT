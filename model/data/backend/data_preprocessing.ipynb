{
 "cells": [
  {
   "cell_type": "markdown",
   "metadata": {},
   "source": [
    "# Merge dataframes and create columns"
   ]
  },
  {
   "cell_type": "code",
   "execution_count": 3,
   "metadata": {},
   "outputs": [
    {
     "name": "stdout",
     "output_type": "stream",
     "text": [
      "(525600, 5)\n",
      "(35040, 12)\n",
      "01-01-2023\n",
      "        date      time  month  day_of_week  hour_of_day  imbalance_take_price  \\\n",
      "0 2023-01-01  00:00:00      1            6            0                -209.4   \n",
      "1 2023-01-01  00:01:00      1            6            0                -209.4   \n",
      "2 2023-01-01  00:02:00      1            6            0                -209.4   \n",
      "3 2023-01-01  00:03:00      1            6            0                -209.4   \n",
      "4 2023-01-01  00:04:00      1            6            0                -209.4   \n",
      "\n",
      "   imbalance_feed_price  imbalance_regulation_state  high_feed_price  \\\n",
      "0                -209.4                        -1.0              NaN   \n",
      "1                -209.4                        -1.0              NaN   \n",
      "2                -209.4                        -1.0              NaN   \n",
      "3                -209.4                        -1.0              NaN   \n",
      "4                -209.4                        -1.0              NaN   \n",
      "\n",
      "   mid_price  low_take_price  \n",
      "0      12.31          -36.30  \n",
      "1      12.31           -5.39  \n",
      "2      12.31           -5.39  \n",
      "3      12.31           -5.39  \n",
      "4      12.31          -14.66  \n"
     ]
    }
   ],
   "source": [
    "import pandas as pd\n",
    "import numpy as np\n",
    "import os\n",
    "\n",
    "year=2023\n",
    "# Load data\n",
    "current_folder = globals()['_dh'][0]\n",
    "minute_prices = pd.read_csv(os.path.join(current_folder, './{}/minute_prices.csv'.format(year)))\n",
    "imbalance_prices = pd.read_csv(os.path.join(current_folder, './{}/imbalance_prices.csv'.format(year)))\n",
    "\n",
    "minute_prices= minute_prices.replace({',': '.'}, regex=True)\n",
    "imbalance_prices= imbalance_prices.replace({',': '.'}, regex=True)\n",
    "\n",
    "minute_prices = minute_prices[['datum', 'tijd', 'Hoogste_prijs_opregelen', 'Mid_prijs_opregelen', 'Laagste_prijs_afregelen']]\n",
    "minute_prices = minute_prices.rename(columns={'datum': 'date', 'tijd': 'time', 'Hoogste_prijs_opregelen': 'high_feed_price', 'Mid_prijs_opregelen': 'mid_price', 'Laagste_prijs_afregelen': 'low_take_price'})\n",
    "\n",
    "minute_prices['high_feed_price'] = pd.to_numeric(minute_prices['high_feed_price'])\n",
    "minute_prices['mid_price'] = pd.to_numeric(minute_prices['mid_price'])\n",
    "minute_prices['low_take_price'] = pd.to_numeric(minute_prices['low_take_price'])\n",
    "\n",
    "imbalance_prices['Afnemen'] = pd.to_numeric(imbalance_prices['Afnemen'])\n",
    "imbalance_prices['invoeden'] = pd.to_numeric(imbalance_prices['invoeden'])\n",
    "imbalance_prices['regeltoestand'] = pd.to_numeric(imbalance_prices['regeltoestand'])\n",
    "\n",
    "print(minute_prices.shape)\n",
    "print(imbalance_prices.shape)\n",
    "print(minute_prices['date'][0])\n",
    "\n",
    "\n",
    "minute_prices.insert(2, \"month\", np.zeros(minute_prices.shape[0]), True)\n",
    "minute_prices.insert(3, \"day_of_week\", np.zeros(minute_prices.shape[0]), True)\n",
    "minute_prices.insert(4, \"hour_of_day\", np.zeros(minute_prices.shape[0]), True)\n",
    "minute_prices.insert(5, \"imbalance_take_price\", np.zeros(minute_prices.shape[0]), True)\n",
    "minute_prices.insert(6, \"imbalance_feed_price\", np.zeros(minute_prices.shape[0]), True)\n",
    "minute_prices.insert(7, \"imbalance_regulation_state\", np.zeros(minute_prices.shape[0]), True)\n",
    "\n",
    "# Merge dataframes\n",
    "j = -1\n",
    "for i in range (minute_prices.shape[0]):\n",
    "  if i % 15 == 0:\n",
    "    j+=1\n",
    "    if not pd.isnull(minute_prices['mid_price'][i]):\n",
    "      mid = minute_prices['mid_price'][i]\n",
    "    else:\n",
    "      mid = imbalance_prices['invoeden'][j]\n",
    "\n",
    "  afnemen = imbalance_prices['Afnemen'][j]\n",
    "  invoeden = imbalance_prices['invoeden'][j]\n",
    "  regeltoestand = imbalance_prices['regeltoestand'][j]\n",
    "\n",
    "  mid_price = mid\n",
    "\n",
    "  minute_prices.loc[i, 'imbalance_take_price'] = afnemen\n",
    "  minute_prices.loc[i, 'mid_price'] = mid_price\n",
    "  minute_prices.loc[i, 'imbalance_feed_price'] = invoeden\n",
    "  minute_prices.loc[i, 'imbalance_regulation_state'] = regeltoestand\n",
    "\n",
    "\n",
    "# Create date columns\n",
    "minute_prices['date'] = pd.to_datetime(minute_prices['date'], format='%d-%m-%Y')\n",
    "minute_prices['time'] = pd.to_datetime(minute_prices['time'], format='%H:%M')\n",
    "\n",
    "minute_prices['month'] = minute_prices['date'].dt.month\n",
    "minute_prices['day_of_week'] = minute_prices['date'].dt.dayofweek\n",
    "minute_prices['hour_of_day'] = minute_prices['time'].dt.hour\n",
    "\n",
    "minute_prices['time'] = minute_prices['time'].dt.time\n",
    "\n",
    "df = minute_prices\n",
    "\n",
    "print(df.head(5))\n",
    "\n",
    "df.to_csv(os.path.join(current_folder, './{}/test_imb.csv'.format(year)), index=False)"
   ]
  },
  {
   "cell_type": "markdown",
   "metadata": {},
   "source": [
    "# Train dataset"
   ]
  },
  {
   "cell_type": "code",
   "execution_count": 5,
   "metadata": {},
   "outputs": [],
   "source": [
    "# Shift the data and remove the first 2 minutes\n",
    "\n",
    "df = pd.read_csv('./{}/test_imb.csv'.format(year))\n",
    "\n",
    "# Add two rows\n",
    "df.loc[-1] = df.iloc[0]\n",
    "df.loc[-2] = df.iloc[0]\n",
    "df.index = df.index + 2\n",
    "df.sort_index(inplace=True)\n",
    "\n",
    "# Remove the feed and take price from the last two minutes\n",
    "# This is done because the Tennet data has 2 minutes delay and so we don't have the info for the last 2 minutes in time\n",
    "for i in range(len(df)):\n",
    "    if i % 15 == 0:\n",
    "        df.loc[i, 'high_feed_price'] = None\n",
    "        df.loc[i, 'low_take_price'] = None\n",
    "        df.loc[i + 1, 'high_feed_price'] = None\n",
    "        df.loc[i + 1, 'low_take_price'] = None\n",
    "\n",
    "df = df.iloc[2:]\n",
    "df.to_csv('./{}/train_imb.csv'.format(year), index=False)"
   ]
  },
  {
   "cell_type": "markdown",
   "metadata": {},
   "source": [
    "# Normalize data on mid price"
   ]
  },
  {
   "cell_type": "code",
   "execution_count": null,
   "metadata": {},
   "outputs": [],
   "source": [
    "import matplotlib.pyplot as plt\n",
    "# Plotting frequency histogram\n",
    "plt.hist(df['low_feed_price'], bins=len(df['low_feed_price'].unique()), edgecolor='black')\n",
    "plt.xlabel('Value')\n",
    "plt.ylabel('Frequency')\n",
    "plt.title('Frequency Histogram')\n",
    "plt.grid(True)\n",
    "plt.show()"
   ]
  }
 ],
 "metadata": {
  "kernelspec": {
   "display_name": "torch3.9",
   "language": "python",
   "name": "python3"
  },
  "language_info": {
   "codemirror_mode": {
    "name": "ipython",
    "version": 3
   },
   "file_extension": ".py",
   "mimetype": "text/x-python",
   "name": "python",
   "nbconvert_exporter": "python",
   "pygments_lexer": "ipython3",
   "version": "3.9.19"
  }
 },
 "nbformat": 4,
 "nbformat_minor": 2
}
