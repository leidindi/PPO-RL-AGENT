{
 "cells": [
  {
   "cell_type": "code",
   "execution_count": 40,
   "metadata": {},
   "outputs": [
    {
     "name": "stdout",
     "output_type": "stream",
     "text": [
      "(525600, 4)\n",
      "(35040, 12)\n",
      "01-01-2023\n"
     ]
    }
   ],
   "source": [
    "import pandas as pd\n",
    "import numpy as np\n",
    "import os\n",
    "\n",
    "\n",
    "# Load data\n",
    "current_folder = globals()['_dh'][0]\n",
    "minute_prices = pd.read_csv(os.path.join(current_folder, 'minute_prices.csv'))\n",
    "imbalance_prices = pd.read_csv(os.path.join(current_folder, 'imbalance_prices.csv'))\n",
    "\n",
    "minute_prices = minute_prices[['datum', 'tijd', 'Hoogste_prijs_opregelen', 'Laagste_prijs_afregelen']]\n",
    "minute_prices = minute_prices.rename(columns={'datum': 'date', 'tijd': 'time', 'Hoogste_prijs_opregelen': 'high_take_price', 'Laagste_prijs_afregelen': 'low_feed_price'})\n",
    "\n",
    "print(minute_prices.shape)\n",
    "print(imbalance_prices.shape)\n",
    "print(minute_prices['date'][0])\n",
    "\n",
    "minute_prices.insert(4, \"medium_price\", np.zeros(minute_prices.shape[0]), True)\n",
    "minute_prices.insert(5, \"imbalance_take_price\", np.zeros(minute_prices.shape[0]), True)\n",
    "minute_prices.insert(6, \"imbalance_feed_price\", np.zeros(minute_prices.shape[0]), True)\n",
    "minute_prices.insert(7, \"imbalance_regulation_state\", np.zeros(minute_prices.shape[0]), True)\n",
    "\n",
    "\n",
    "j = -1\n",
    "for i in range (minute_prices.shape[0]):\n",
    "  if i % 15 == 0:\n",
    "    j+=1\n",
    "  afnemen = round(np.float32(imbalance_prices['Afnemen'][j].replace(',','.')), 2)\n",
    "  invoeden = round(np.float32(imbalance_prices['invoeden'][j].replace(',','.')), 2)\n",
    "  regeltoestand = round(np.int64(imbalance_prices['regeltoestand'][j]), 2)\n",
    "  if regeltoestand != 2:\n",
    "    half_price = (afnemen / 2.0)\n",
    "  else:\n",
    "    half_price = (afnemen + invoeden) / 2.0\n",
    "\n",
    "  high_take_price = minute_prices['high_take_price'][i]\n",
    "  low_feed_price = minute_prices['low_feed_price'][i]\n",
    "\n",
    "  if not pd.isnull(high_take_price):\n",
    "    minute_prices.loc[i, 'high_take_price'] = round(np.float32(minute_prices['high_take_price'][i].replace(',', \".\")),2)\n",
    "\n",
    "  if not pd.isnull(low_feed_price):\n",
    "    minute_prices.loc[i, 'low_feed_price'] = round(np.float32(minute_prices['low_feed_price'][i].replace(',', \".\")),2)\n",
    "\n",
    "  minute_prices.loc[i, 'imbalance_take_price'] = afnemen\n",
    "  minute_prices.loc[i, 'imbalance_feed_price'] = invoeden\n",
    "  minute_prices.loc[i, 'medium_price'] = half_price\n",
    "  minute_prices.loc[i, 'imbalance_regulation_state'] = regeltoestand\n",
    "\n",
    "minute_prices['imbalance_take_price'] = minute_prices['imbalance_take_price'].round(2)\n",
    "minute_prices['imbalance_feed_price'] = minute_prices['imbalance_feed_price'].round(2)\n",
    "minute_prices['medium_price'] = minute_prices['medium_price'].round(2)\n",
    "\n",
    "minute_prices.to_csv(os.path.join(current_folder, 'new_imb.csv'))\n"
   ]
  },
  {
   "cell_type": "code",
   "execution_count": 10,
   "metadata": {},
   "outputs": [],
   "source": [
    "import pandas as pd\n",
    "import numpy as np\n",
    "import os\n",
    "\n",
    "# Load data\n",
    "current_folder = globals()['_dh'][0]\n",
    "clean_imb = pd.read_csv(os.path.join(current_folder, 'imb_clean.csv'))\n",
    "\n",
    "clean_imb.insert(2, \"day_of_year\", np.zeros(clean_imb.shape[0]), True)\n",
    "clean_imb.insert(3, \"hour_of_day\", np.zeros(clean_imb.shape[0]), True)\n",
    "\n",
    "clean_imb['date'] = pd.to_datetime(clean_imb['date'], format='%d-%m-%Y')\n",
    "clean_imb['day_of_year'] = clean_imb['date'].dt.dayofyear\n",
    "clean_imb['time'] = pd.to_datetime(clean_imb['time'], format='%H:%M')\n",
    "clean_imb['hour_of_day'] = clean_imb['time'].dt.hour\n",
    "\n",
    "clean_imb.to_csv(os.path.join(current_folder, 'imb_clean.csv'))\n"
   ]
  },
  {
   "cell_type": "code",
   "execution_count": 11,
   "metadata": {},
   "outputs": [],
   "source": [
    "import pandas as pd\n",
    "import numpy as np\n",
    "import os\n",
    "\n",
    "# Load data\n",
    "current_folder = globals()['_dh'][0]\n",
    "clean_imb = pd.read_csv(os.path.join(current_folder, 'imb_clean.csv'))\n",
    "minute_prices = pd.read_csv(os.path.join(current_folder, 'minute_prices.csv'))\n",
    "\n",
    "clean_imb['time'] = minute_prices['tijd']\n",
    "\n",
    "clean_imb.to_csv(os.path.join(current_folder, 'imb_clean.csv'))"
   ]
  },
  {
   "cell_type": "code",
   "execution_count": 15,
   "metadata": {},
   "outputs": [],
   "source": [
    "import pandas as pd\n",
    "import numpy as np\n",
    "import os\n",
    "\n",
    "# Load data\n",
    "current_folder = globals()['_dh'][0]\n",
    "clean_imb = pd.read_csv(os.path.join(current_folder, 'imb_clean.csv'))\n",
    "\n",
    "df = clean_imb.loc[:, ~clean_imb.columns.str.contains('^Unnamed')]\n",
    "\n",
    "df.head()\n",
    "df.to_csv(os.path.join(current_folder, 'imb_clean.csv'))"
   ]
  },
  {
   "cell_type": "code",
   "execution_count": 2,
   "metadata": {},
   "outputs": [],
   "source": [
    "import pandas as pd\n",
    "import numpy as np\n",
    "import os\n",
    "\n",
    "# Load data\n",
    "current_folder = globals()['_dh'][0]\n",
    "clean_imb = pd.read_csv(os.path.join(current_folder, 'imb_clean.csv'))\n",
    "clean_imb = clean_imb.rename(columns={'imbalance_take_price': 'imbalance_feed_price', 'imbalance_feed_price': 'imbalance_take_price'})\n",
    "clean_imb.to_csv(os.path.join(current_folder, 'imb_clean.csv'))"
   ]
  }
 ],
 "metadata": {
  "kernelspec": {
   "display_name": "torch3.9",
   "language": "python",
   "name": "python3"
  },
  "language_info": {
   "codemirror_mode": {
    "name": "ipython",
    "version": 3
   },
   "file_extension": ".py",
   "mimetype": "text/x-python",
   "name": "python",
   "nbconvert_exporter": "python",
   "pygments_lexer": "ipython3",
   "version": "3.9.19"
  }
 },
 "nbformat": 4,
 "nbformat_minor": 2
}
